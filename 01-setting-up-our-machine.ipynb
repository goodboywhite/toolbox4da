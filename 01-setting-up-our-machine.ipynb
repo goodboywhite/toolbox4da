{
 "cells": [
  {
   "cell_type": "markdown",
   "metadata": {
    "slideshow": {
     "slide_type": "slide"
    }
   },
   "source": [
    "# 成為初級資料分析師 | 資料分析師的工具箱\n",
    "\n",
    "> 設定我們的機器\n",
    "\n",
    "## 郭耀仁"
   ]
  },
  {
   "cell_type": "markdown",
   "metadata": {
    "slideshow": {
     "slide_type": "subslide"
    }
   },
   "source": [
    "## 大綱\n",
    "\n",
    "- 關於「資料分析師的工具箱」\n",
    "- 安裝 Git、Git Bash 與註冊 GitHub\n",
    "- 安裝 VSCode 或 Notepad++\n",
    "- 安裝 Anaconda\n",
    "- 安裝 R 與 RStudio"
   ]
  },
  {
   "cell_type": "markdown",
   "metadata": {
    "slideshow": {
     "slide_type": "slide"
    }
   },
   "source": [
    "## 關於「資料分析師的工具箱」"
   ]
  },
  {
   "cell_type": "markdown",
   "metadata": {
    "slideshow": {
     "slide_type": "subslide"
    }
   },
   "source": [
    "## 這門課是設計給「打算開始學習用電腦程式處理資料」的學員"
   ]
  },
  {
   "cell_type": "markdown",
   "metadata": {
    "slideshow": {
     "slide_type": "subslide"
    }
   },
   "source": [
    "## 這門課程是設計給那些「打算開始學習用電腦程式處理資料」的學員\n",
    "\n",
    "不需要任何技術基礎！"
   ]
  },
  {
   "cell_type": "markdown",
   "metadata": {
    "slideshow": {
     "slide_type": "subslide"
    }
   },
   "source": [
    "## 這門課程啟發自兩所知名大學的正式學分課\n",
    "\n",
    "- [The Data Scientist’s Toolbox by Johns Hopkins](https://www.coursera.org/learn/data-scientists-tools)\n",
    "- [Programming Skills for Data Science by University of Washington](https://www.amazon.com/gp/product/0135133106)"
   ]
  },
  {
   "cell_type": "markdown",
   "metadata": {
    "slideshow": {
     "slide_type": "subslide"
    }
   },
   "source": [
    "## 這門課程的短期目標：成為初級資料分析師系列的第一門課"
   ]
  },
  {
   "cell_type": "markdown",
   "metadata": {
    "slideshow": {
     "slide_type": "subslide"
    }
   },
   "source": [
    "## 這門課程的長期目標：成為 OO 系列的第一堂課\n",
    "\n",
    "- 資料科學家\n",
    "- 資料工程師\n",
    "- 前端工程師\n",
    "- 後端工程師"
   ]
  },
  {
   "cell_type": "markdown",
   "metadata": {
    "slideshow": {
     "slide_type": "subslide"
    }
   },
   "source": [
    "## 不論是想成為「資料分析師」或者 OO，初學者遭遇到最大的困境是將機器設定正確"
   ]
  },
  {
   "cell_type": "markdown",
   "metadata": {
    "slideshow": {
     "slide_type": "subslide"
    }
   },
   "source": [
    "## 我們要設定好以下這些軟體、程式或工具\n",
    "\n",
    "- Git、Git Bash 與註冊 GitHub\n",
    "- VSCode 或 Notepad++\n",
    "- Anaconda\n",
    "- R/RStudio"
   ]
  },
  {
   "cell_type": "markdown",
   "metadata": {
    "slideshow": {
     "slide_type": "subslide"
    }
   },
   "source": []
  },
  {
   "cell_type": "markdown",
   "metadata": {
    "slideshow": {
     "slide_type": "slide"
    }
   },
   "source": [
    "## 安裝 Git、Git Bash 與註冊 GitHub"
   ]
  },
  {
   "cell_type": "markdown",
   "metadata": {
    "slideshow": {
     "slide_type": "subslide"
    }
   },
   "source": [
    "## Git 是一個「版本控制」系統，提供指令讓寫程式的人能夠管理變更，尤其是跟其他寫程式的人協作時"
   ]
  },
  {
   "cell_type": "markdown",
   "metadata": {
    "slideshow": {
     "slide_type": "subslide"
    }
   },
   "source": [
    "## 「寫程式的人」相關職稱很多，像是：\n",
    "\n",
    "- 軟體工程師\n",
    "    - 前端工程師\n",
    "    - 後端工程師\n",
    "    - 手機 APP 工程師\n",
    "- 資料分析師\n",
    "- 資料科學家\n",
    "- 資料工程師\n",
    "- ...etc."
   ]
  },
  {
   "cell_type": "markdown",
   "metadata": {
    "slideshow": {
     "slide_type": "subslide"
    }
   },
   "source": [
    "## 作業系統是 MacOS 的學員不需要安裝 Git"
   ]
  },
  {
   "cell_type": "markdown",
   "metadata": {
    "slideshow": {
     "slide_type": "subslide"
    }
   },
   "source": [
    "## 作業系統是 Windows 的學員需要前往 <https://git-scm.com/downloads> 安裝 Git\n",
    "\n",
    "選擇 64-bit Git for Windows Setup 版本下載"
   ]
  },
  {
   "cell_type": "markdown",
   "metadata": {
    "slideshow": {
     "slide_type": "subslide"
    }
   },
   "source": [
    "## 作業系統是 Windows 在安裝 Git 的時候會一併安裝 Git Bash"
   ]
  },
  {
   "cell_type": "markdown",
   "metadata": {
    "slideshow": {
     "slide_type": "subslide"
    }
   },
   "source": [
    "## Git Bash 是課程建議讓作業系統是 Windows 的學員所使用之命令列工具"
   ]
  },
  {
   "cell_type": "markdown",
   "metadata": {
    "slideshow": {
     "slide_type": "subslide"
    }
   },
   "source": [
    "## Windows 內建的命令列工具有兩個\n",
    "\n",
    "- DOS 命令提示字元\n",
    "- Powershell"
   ]
  },
  {
   "cell_type": "markdown",
   "metadata": {
    "slideshow": {
     "slide_type": "subslide"
    }
   },
   "source": [
    "## 但是它們的指令或功能跟 Bash 還是有些差異"
   ]
  },
  {
   "cell_type": "markdown",
   "metadata": {
    "slideshow": {
     "slide_type": "subslide"
    }
   },
   "source": [
    "## 即便 Windows 10 開始支援「Windows Subsystem for Linux」\n",
    "\n",
    "<https://docs.microsoft.com/en-us/windows/wsl/install-win10?redirectedfrom=MSDN>"
   ]
  },
  {
   "cell_type": "markdown",
   "metadata": {
    "slideshow": {
     "slide_type": "subslide"
    }
   },
   "source": [
    "## 為了減輕課程負擔，請作業系統是 Windows 的學員使用 GitBash"
   ]
  },
  {
   "cell_type": "markdown",
   "metadata": {
    "slideshow": {
     "slide_type": "subslide"
    }
   },
   "source": [
    "## 作業系統是 MacOS 的學員課程建議使用內建命令列工具：Terminal\n",
    "\n",
    "- Spotlight 搜尋（Cmd 鍵(⌘) + 空白鍵）：\"terminal\"\n",
    "- 或從「應用程式 Applications」資料夾 ->「功能 Utilities」資料夾找到它"
   ]
  },
  {
   "cell_type": "markdown",
   "metadata": {
    "slideshow": {
     "slide_type": "subslide"
    }
   },
   "source": [
    "## GitHub 是一個支援以 `git` 儲存程式碼的網站，它之於程式碼就像是 Imgur 之於圖片\n",
    "\n",
    "前往 <https://github.com/> 註冊"
   ]
  },
  {
   "cell_type": "markdown",
   "metadata": {
    "slideshow": {
     "slide_type": "slide"
    }
   },
   "source": [
    "## 安裝 VSCode 或 Notepad++"
   ]
  },
  {
   "cell_type": "markdown",
   "metadata": {
    "slideshow": {
     "slide_type": "subslide"
    }
   },
   "source": [
    "## 我們在「文字編輯器」中撰寫程式語言\n",
    "\n",
    "好的文字編輯器應該具備哪些特質？\n",
    "\n",
    "- 有自動排版\n",
    "- 有提示功能\n",
    "- 輕量\n",
    "- ..."
   ]
  },
  {
   "cell_type": "markdown",
   "metadata": {
    "slideshow": {
     "slide_type": "subslide"
    }
   },
   "source": [
    "## 課程推薦兩個「文字編輯器」，學員可擇一安裝\n",
    "\n",
    "1. Visual Studio Code(VS Code) <https://code.visualstudio.com/>\n",
    "2. Notepad++ <https://notepad-plus-plus.org/downloads/>"
   ]
  },
  {
   "cell_type": "markdown",
   "metadata": {
    "slideshow": {
     "slide_type": "subslide"
    }
   },
   "source": [
    "## 科技人社會責任的表彰\n",
    "\n",
    "<https://notepad-plus-plus.org/news/v781-free-uyghur-edition/>"
   ]
  },
  {
   "cell_type": "markdown",
   "metadata": {
    "slideshow": {
     "slide_type": "subslide"
    }
   },
   "source": [
    "## 作為「資料分析師」我們多半撰寫程式的地方其實是\n",
    "\n",
    "- 在 Jupyter Notebook（會隨著安裝 Anaconda 而獲得）撰寫 Python 程式碼\n",
    "- 在 RStudio 撰寫 R 程式碼"
   ]
  },
  {
   "cell_type": "markdown",
   "metadata": {
    "slideshow": {
     "slide_type": "subslide"
    }
   },
   "source": [
    "## 我們仍然需要「文字編輯器」的原因是\n",
    "\n",
    "- 可以快速地開啟程式碼\n",
    "- 支援更多不同的程式語言"
   ]
  },
  {
   "cell_type": "markdown",
   "metadata": {
    "slideshow": {
     "slide_type": "slide"
    }
   },
   "source": [
    "## 安裝 Anaconda"
   ]
  },
  {
   "cell_type": "markdown",
   "metadata": {
    "slideshow": {
     "slide_type": "subslide"
    }
   },
   "source": [
    "## 資料分析師主要使用的程式語言是 Python 與 R"
   ]
  },
  {
   "cell_type": "markdown",
   "metadata": {
    "slideshow": {
     "slide_type": "subslide"
    }
   },
   "source": [
    "## Python 是一種廣泛用途程式語言\n",
    "\n",
    "- 由荷蘭電腦科學家 Guido van Rossum 於 1991 年創造\n",
    "- 目前由 Python 軟體基金會維護\n",
    "- 特性為高階、直譯、與簡潔"
   ]
  },
  {
   "cell_type": "markdown",
   "metadata": {
    "slideshow": {
     "slide_type": "subslide"
    }
   },
   "source": [
    "## 在多個應用領域中倍受熱愛\n",
    "\n",
    "- 資料科學\n",
    "- 網站開發\n",
    "- 系統自動化\n",
    "- ..."
   ]
  },
  {
   "cell_type": "markdown",
   "metadata": {
    "slideshow": {
     "slide_type": "subslide"
    }
   },
   "source": [
    "## 打造一個適合「資料分析師」使用的 Python 環境在以前並不容易"
   ]
  },
  {
   "cell_type": "markdown",
   "metadata": {
    "slideshow": {
     "slide_type": "subslide"
    }
   },
   "source": [
    "## 透過 Anaconda 我們可以獲得一個妥善的 Python 環境"
   ]
  },
  {
   "cell_type": "markdown",
   "metadata": {
    "slideshow": {
     "slide_type": "subslide"
    }
   },
   "source": [
    "## 如何定義「妥善」？\n",
    "\n",
    "- Python 直譯器\n",
    "- Jupyter Notebook\n",
    "- 套件與環境管理工具 pip/conda\n",
    "- 資料科學套件 NumPy/Pandas/Matplotlib/Seaborn/Sklearn"
   ]
  },
  {
   "cell_type": "markdown",
   "metadata": {
    "slideshow": {
     "slide_type": "subslide"
    }
   },
   "source": [
    "## 開始安裝 Anaconda\n",
    "\n",
    "1. 前往 <https://www.anaconda.com/distribution/>，依照作業系統點選對應的 Python 3.X 安裝檔\n",
    "2. 依照提示點選下一步\n",
    "3. 選擇安裝路徑\n",
    "4. 依照提示點選我同意\n",
    "5. **勾選將 Anaconda 加入路徑變數後點選安裝**\n",
    "6. 等待安裝完成\n",
    "\n",
    "![](https://i.imgur.com/f9T9gkM.png)"
   ]
  },
  {
   "cell_type": "markdown",
   "metadata": {
    "slideshow": {
     "slide_type": "slide"
    }
   },
   "source": [
    "## 安裝 R 與 RStudio"
   ]
  },
  {
   "cell_type": "markdown",
   "metadata": {
    "slideshow": {
     "slide_type": "subslide"
    }
   },
   "source": [
    "## 資料分析師主要使用的程式語言是 Python 與 R"
   ]
  },
  {
   "cell_type": "markdown",
   "metadata": {
    "slideshow": {
     "slide_type": "subslide"
    }
   },
   "source": [
    "## R 是一種科學計算用途程式語言\n",
    "\n",
    "- 由紐西蘭奧克蘭大學的 Ross Ihaka 和 Robert Gentleman 於 1993 創造\n",
    "- 由 R 開發核心團隊維護\n",
    "- 特性為內建豐富的統計函數與繪圖功能"
   ]
  },
  {
   "cell_type": "markdown",
   "metadata": {
    "slideshow": {
     "slide_type": "subslide"
    }
   },
   "source": [
    "## 分兩個軟體安裝\n",
    "\n",
    "- R 直譯器\n",
    "- R 整合開發環境（Integrated Development Environment, IDE）"
   ]
  },
  {
   "cell_type": "markdown",
   "metadata": {
    "slideshow": {
     "slide_type": "subslide"
    }
   },
   "source": [
    "## R 直譯器：<https://cran.r-project.org/>\n",
    "\n",
    "安裝過程勾選不要安裝 32 位元檔案\n",
    "\n",
    "![](https://i.imgur.com/A5OwsnX.png)"
   ]
  },
  {
   "cell_type": "markdown",
   "metadata": {
    "slideshow": {
     "slide_type": "subslide"
    }
   },
   "source": [
    "## R 整合開發環境 <https://www.rstudio.com/products/rstudio/download>"
   ]
  },
  {
   "cell_type": "markdown",
   "metadata": {
    "slideshow": {
     "slide_type": "subslide"
    }
   },
   "source": [
    "## 哈囉世界"
   ]
  },
  {
   "cell_type": "code",
   "execution_count": null,
   "metadata": {},
   "outputs": [],
   "source": []
  }
 ],
 "metadata": {
  "celltoolbar": "Slideshow",
  "kernelspec": {
   "display_name": "Python 3",
   "language": "python",
   "name": "python3"
  },
  "language_info": {
   "codemirror_mode": {
    "name": "ipython",
    "version": 3
   },
   "file_extension": ".py",
   "mimetype": "text/x-python",
   "name": "python",
   "nbconvert_exporter": "python",
   "pygments_lexer": "ipython3",
   "version": "3.7.2"
  }
 },
 "nbformat": 4,
 "nbformat_minor": 2
}

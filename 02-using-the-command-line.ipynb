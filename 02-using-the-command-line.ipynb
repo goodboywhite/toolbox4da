{
 "cells": [
  {
   "cell_type": "markdown",
   "metadata": {
    "slideshow": {
     "slide_type": "slide"
    }
   },
   "source": [
    "# 成為初級資料分析師 | 資料分析師的工具箱\n",
    "\n",
    "> 使用命令列\n",
    "\n",
    "## 郭耀仁"
   ]
  },
  {
   "cell_type": "markdown",
   "metadata": {
    "slideshow": {
     "slide_type": "subslide"
    }
   },
   "source": [
    "## 大綱\n",
    "\n",
    "- 關於「使用命令列」\n",
    "- 命令列視窗的四個資訊\n",
    "- 使用指令瀏覽資料夾、檔案\n",
    "- 使用指令管理資料夾與檔案\n",
    "- 引導輸出的指令\n",
    "- 隨堂練習"
   ]
  },
  {
   "cell_type": "markdown",
   "metadata": {
    "slideshow": {
     "slide_type": "slide"
    }
   },
   "source": [
    "## 關於「使用命令列」"
   ]
  },
  {
   "cell_type": "markdown",
   "metadata": {
    "slideshow": {
     "slide_type": "subslide"
    }
   },
   "source": [
    "## 「命令列」是與電腦溝通的一種介面，有別於我們平常使用的「圖形化介面」\n",
    "\n",
    "- 「命令列」採取使用鍵盤輸入指令和文字\n",
    "- 「圖形化介面」採取使用滑鼠拖、拉、點、選"
   ]
  },
  {
   "cell_type": "markdown",
   "metadata": {
    "slideshow": {
     "slide_type": "subslide"
    }
   },
   "source": [
    "## 作為資料分析師，我們常使用「命令列」來管理檔案、版本控管、安裝套件以及部署專案...等任務"
   ]
  },
  {
   "cell_type": "markdown",
   "metadata": {
    "slideshow": {
     "slide_type": "subslide"
    }
   },
   "source": [
    "## 「命令列」確實不如「圖形化介面」友善，但是它具有其優勢\n",
    "\n",
    "- 效率高、產能大\n",
    "- 與遠端伺服器（沒有安裝圖形化介面的電腦）溝通唯一方式"
   ]
  },
  {
   "cell_type": "markdown",
   "metadata": {
    "slideshow": {
     "slide_type": "slide"
    }
   },
   "source": [
    "## 命令列視窗的四個資訊"
   ]
  },
  {
   "cell_type": "markdown",
   "metadata": {
    "slideshow": {
     "slide_type": "subslide"
    }
   },
   "source": [
    "## 開啟命令列\n",
    "\n",
    "- Windows 使用者開啟 Git Bash 應用程式\n",
    "- macOS 使用者開啟 Terminal 應用程式"
   ]
  },
  {
   "cell_type": "markdown",
   "metadata": {
    "slideshow": {
     "slide_type": "subslide"
    }
   },
   "source": [
    "## 絕大多數的命令列視窗會包含至少四個資訊\n",
    "\n",
    "- 機器名稱\n",
    "- 目前所在的工作目錄（`~` 指的是家目錄）\n",
    "    - Windows `C:/Users/USER_NAME/`\n",
    "    - macOS `/Users/USER_NAME/`\n",
    "- 使用者名稱\n",
    "- 輸入區（通常由 `$` 表示）"
   ]
  },
  {
   "cell_type": "markdown",
   "metadata": {
    "slideshow": {
     "slide_type": "subslide"
    }
   },
   "source": [
    "## 命令列指令的「哈囉世界」：以 `echo` 指令印出文字\n",
    "\n",
    "```bash\n",
    "echo 'Hello, World!'\n",
    "```"
   ]
  },
  {
   "cell_type": "markdown",
   "metadata": {
    "slideshow": {
     "slide_type": "slide"
    }
   },
   "source": [
    "## 使用指令瀏覽資料夾、檔案"
   ]
  },
  {
   "cell_type": "markdown",
   "metadata": {
    "slideshow": {
     "slide_type": "subslide"
    }
   },
   "source": [
    "![](https://i.imgur.com/70nqKMw.png?1)\n",
    "\n",
    "Source: [Programming Skills for Data Science](https://www.amazon.com/Programming-Skills-Data-Science-Addison-Wesley/dp/0135133106)"
   ]
  },
  {
   "cell_type": "markdown",
   "metadata": {
    "slideshow": {
     "slide_type": "subslide"
    }
   },
   "source": [
    "## 為了提升指令輸入速度，命令列中所使用的指令包含大量的縮寫；因此對初學者來說，暸解縮寫與全稱能有效幫助記憶"
   ]
  },
  {
   "cell_type": "markdown",
   "metadata": {
    "slideshow": {
     "slide_type": "subslide"
    }
   },
   "source": [
    "## 以 `pwd` 指令來知道自己在電腦的哪個位置\n",
    "\n",
    "`pwd` 是 \"**p**rint **w**orking **d**irectory\" 的縮寫"
   ]
  },
  {
   "cell_type": "markdown",
   "metadata": {
    "slideshow": {
     "slide_type": "subslide"
    }
   },
   "source": [
    "## 以 `cd` 指令來更改目錄\n",
    "\n",
    "`cd` 是 \"**c**hange **d**irectory\" 的縮寫\n",
    "\n",
    "```bash\n",
    "cd FOLDER_NAME\n",
    "```"
   ]
  },
  {
   "cell_type": "markdown",
   "metadata": {
    "slideshow": {
     "slide_type": "subslide"
    }
   },
   "source": [
    "## 更平順地操作命令列\n",
    "\n",
    "- 使用「上、下」方向鍵瀏覽執行過的指令\n",
    "- 使用「Ctrl + E」移動到輸入區的尾端；「Ctrl + A」移動到輸入區的開端\n",
    "- 以 `.` 表示目前所在目錄、以 `..` 表示上一層目錄\n",
    "- 使用 Tab 鍵讓指令能夠自動完成"
   ]
  },
  {
   "cell_type": "markdown",
   "metadata": {
    "slideshow": {
     "slide_type": "subslide"
    }
   },
   "source": [
    "## 以 `ls` 指令列出資料夾與檔案\n",
    "\n",
    "`ls` 是 \"**l**i**s**t\" 的縮寫"
   ]
  },
  {
   "cell_type": "markdown",
   "metadata": {
    "slideshow": {
     "slide_type": "subslide"
    }
   },
   "source": [
    "## `cd` 與 `ls` 指令亦可以作用在 \"Non-current\" 目錄，這是因為命令列指令允許我們指派兩種路徑類型\n",
    "\n",
    "- 相對路徑 `ls Desktop`\n",
    "- 絕對路徑 `ls /c/Users/USER_NAME/Desktop # ls /Users/USER_NAME/Desktop`"
   ]
  },
  {
   "cell_type": "markdown",
   "metadata": {
    "slideshow": {
     "slide_type": "slide"
    }
   },
   "source": [
    "## 使用指令管理資料夾與檔案"
   ]
  },
  {
   "cell_type": "markdown",
   "metadata": {
    "slideshow": {
     "slide_type": "subslide"
    }
   },
   "source": [
    "## 以 `mkdir` 創建資料夾\n",
    "\n",
    "`mkdir` 是 \"**m**a**k**e a **dir**ectory\" 的縮寫\n",
    "\n",
    "```bash\n",
    "mkdir MY_FOLDER\n",
    "```"
   ]
  },
  {
   "cell_type": "markdown",
   "metadata": {
    "slideshow": {
     "slide_type": "subslide"
    }
   },
   "source": [
    "## 以 `touch` 創建檔案\n",
    "\n",
    "```bash\n",
    "touch MY_FILE\n",
    "```"
   ]
  },
  {
   "cell_type": "markdown",
   "metadata": {
    "slideshow": {
     "slide_type": "subslide"
    }
   },
   "source": [
    "## 以 `rm` 移除檔案或資料夾\n",
    "\n",
    "`rm` 是 \"**r**e**m**ove\" 的縮寫\n",
    "\n",
    "```bash\n",
    "rm MY_FILE\n",
    "rm -r MY_FOLDER # -r as in \"recursive\"\n",
    "```"
   ]
  },
  {
   "cell_type": "markdown",
   "metadata": {
    "slideshow": {
     "slide_type": "subslide"
    }
   },
   "source": [
    "## 注意，命令列並沒有所謂的「資源回收筒」，一但檔案或資料夾以 `rm` 移除，就會永久消失"
   ]
  },
  {
   "cell_type": "markdown",
   "metadata": {
    "slideshow": {
     "slide_type": "subslide"
    }
   },
   "source": [
    "## 以 `cp` 複製檔案或資料夾\n",
    "\n",
    "`cp` 是 \"**c**o**p**y\" 的縮寫\n",
    "\n",
    "```bash\n",
    "cp MY_FILE ANOTHER_FILE\n",
    "cp -r MY_FOLDER ANOTHER_FOLDER\n",
    "```"
   ]
  },
  {
   "cell_type": "markdown",
   "metadata": {
    "slideshow": {
     "slide_type": "subslide"
    }
   },
   "source": [
    "## 以 `mv` 移動檔案或資料夾\n",
    "\n",
    "`mv` 是 \"**m**o**v**e\" 的縮寫\n",
    "\n",
    "```bash\n",
    "mv MY_FILE /Users/USER_NAME/Desktop/MY_FILE\n",
    "mv -r MY_FOLDER /Users/USER_NAME/Desktop/MY_FOLDER\n",
    "```"
   ]
  },
  {
   "cell_type": "markdown",
   "metadata": {
    "slideshow": {
     "slide_type": "slide"
    }
   },
   "source": [
    "## 引導輸出的指令"
   ]
  },
  {
   "cell_type": "markdown",
   "metadata": {
    "slideshow": {
     "slide_type": "subslide"
    }
   },
   "source": [
    "## 引導輸出指的是將本來印出在命令列輸出「引導」至其他目的地"
   ]
  },
  {
   "cell_type": "markdown",
   "metadata": {
    "slideshow": {
     "slide_type": "subslide"
    }
   },
   "source": [
    "## 引導輸出的指令是以標點符號的形式被使用\n",
    "\n",
    "- `>`\n",
    "- `>>`\n",
    "- `|`(the pipe)"
   ]
  },
  {
   "cell_type": "markdown",
   "metadata": {
    "slideshow": {
     "slide_type": "subslide"
    }
   },
   "source": [
    "## `>` 將命令列輸出引導至檔案\n",
    "\n",
    "```bash\n",
    "echo 'Hello, World!' > hello.txt\n",
    "```"
   ]
  },
  {
   "cell_type": "markdown",
   "metadata": {
    "slideshow": {
     "slide_type": "subslide"
    }
   },
   "source": [
    "## `>>` 將命令列輸出引導「新增」至檔案的末端\n",
    "\n",
    "```bash\n",
    "echo 'Hello, World! Again!' >> hello.txt\n",
    "```"
   ]
  },
  {
   "cell_type": "markdown",
   "metadata": {
    "slideshow": {
     "slide_type": "subslide"
    }
   },
   "source": [
    "## `|`(the pipe) 將命令列輸出引導至下一個指令作為輸入\n",
    "\n",
    "```bash\n",
    "ls | grep hello\n",
    "```"
   ]
  },
  {
   "cell_type": "markdown",
   "metadata": {
    "slideshow": {
     "slide_type": "slide"
    }
   },
   "source": [
    "## 隨堂練習"
   ]
  },
  {
   "cell_type": "markdown",
   "metadata": {
    "slideshow": {
     "slide_type": "subslide"
    }
   },
   "source": [
    "## 隨堂練習：使用指令將工作目錄切換到「我的文件」"
   ]
  },
  {
   "cell_type": "markdown",
   "metadata": {
    "slideshow": {
     "slide_type": "subslide"
    }
   },
   "source": [
    "## 隨堂練習：使用指令在「我的文件」中建立新資料夾 `exercise`"
   ]
  },
  {
   "cell_type": "markdown",
   "metadata": {
    "slideshow": {
     "slide_type": "subslide"
    }
   },
   "source": [
    "## 隨堂練習：使用指令在將工作目錄切換到新資料夾 `exercise` 底下"
   ]
  },
  {
   "cell_type": "markdown",
   "metadata": {
    "slideshow": {
     "slide_type": "subslide"
    }
   },
   "source": [
    "## 隨堂練習：使用指令在新資料夾 `exercise` 底下創建文字檔案 `zen_of_python.txt`"
   ]
  },
  {
   "cell_type": "markdown",
   "metadata": {
    "slideshow": {
     "slide_type": "subslide"
    }
   },
   "source": [
    "## 隨堂練習：使用指令檢查 `zen_of_python.txt` 是否成功創建"
   ]
  },
  {
   "cell_type": "markdown",
   "metadata": {
    "slideshow": {
     "slide_type": "subslide"
    }
   },
   "source": [
    "## 隨堂練習：上網搜尋「Zen of Python」並使用文字編輯器將 Zen of Python 的內容貼到文字檔案 `zen_of_python.txt` 之中，記得存檔"
   ]
  },
  {
   "cell_type": "markdown",
   "metadata": {
    "slideshow": {
     "slide_type": "subslide"
    }
   },
   "source": [
    "## 隨堂練習：使用指令將工作目錄切換到「桌面」，以 `head` 指令顯示 `zen_of_python.txt` 的前段部份內容"
   ]
  }
 ],
 "metadata": {
  "celltoolbar": "Slideshow",
  "kernelspec": {
   "display_name": "Python 3",
   "language": "python",
   "name": "python3"
  },
  "language_info": {
   "codemirror_mode": {
    "name": "ipython",
    "version": 3
   },
   "file_extension": ".py",
   "mimetype": "text/x-python",
   "name": "python",
   "nbconvert_exporter": "python",
   "pygments_lexer": "ipython3",
   "version": "3.7.2"
  }
 },
 "nbformat": 4,
 "nbformat_minor": 2
}

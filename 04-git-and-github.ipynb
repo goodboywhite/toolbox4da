{
 "cells": [
  {
   "cell_type": "markdown",
   "metadata": {
    "slideshow": {
     "slide_type": "slide"
    }
   },
   "source": [
    "# 成為初級資料分析師 | 資料分析師的工具箱\n",
    "\n",
    "> git 與 GitHub\n",
    "\n",
    "## 郭耀仁"
   ]
  },
  {
   "cell_type": "markdown",
   "metadata": {
    "slideshow": {
     "slide_type": "subslide"
    }
   },
   "source": [
    "## 大綱\n",
    "\n",
    "- git\n",
    "- GitHub\n",
    "- git 與 GitHub 基礎操作\n",
    "- 隨堂練習"
   ]
  },
  {
   "cell_type": "markdown",
   "metadata": {
    "slideshow": {
     "slide_type": "slide"
    }
   },
   "source": [
    "##  git"
   ]
  },
  {
   "cell_type": "markdown",
   "metadata": {
    "slideshow": {
     "slide_type": "subslide"
    }
   },
   "source": [
    "## 什麼是 git\n",
    "\n",
    "> git 是一種版本控制工具，版本控制工具運作起來跟 Google 文件、Dropbox 相似，它允許多位使用者同時編輯、檢視或回溯文件修改的歷史紀錄。"
   ]
  },
  {
   "cell_type": "markdown",
   "metadata": {
    "slideshow": {
     "slide_type": "subslide"
    }
   },
   "source": [
    "## 它與 Google 文件及 Dropbox 最大的不同點有二\n",
    "\n",
    "- 每個新的「版本」或「檢查點」（checkpoint）都必須被明確地宣告\n",
    "- 以「行」作為追蹤的單位，可以精準地暸解哪一行程式碼被更改"
   ]
  },
  {
   "cell_type": "markdown",
   "metadata": {
    "slideshow": {
     "slide_type": "subslide"
    }
   },
   "source": [
    "## git 追蹤每一個「檢查點」的設計，讓程式設計師可以快速回溯先前任何一個版本"
   ]
  },
  {
   "cell_type": "markdown",
   "metadata": {
    "slideshow": {
     "slide_type": "subslide"
    }
   },
   "source": [
    "## 不過 git 與版本控制工具最大的貢獻，是讓軟體開發團隊能共同開發一個專案，並且有系統地追蹤、記錄每一個更動"
   ]
  },
  {
   "cell_type": "markdown",
   "metadata": {
    "slideshow": {
     "slide_type": "subslide"
    }
   },
   "source": [
    "## 重要的 git 詞彙\n",
    "\n",
    "- repository: 涵蓋專案所有檔案與歷史軌跡的資料庫\n",
    "- commit: 建構「檢查點」(checkpoint)\n",
    "- remote: 本機電腦 repository 的複本（copy）\n",
    "- merging: 整理不同版本的程式碼合併至一個檢查點"
   ]
  },
  {
   "cell_type": "markdown",
   "metadata": {
    "slideshow": {
     "slide_type": "slide"
    }
   },
   "source": [
    "## GitHub"
   ]
  },
  {
   "cell_type": "markdown",
   "metadata": {
    "slideshow": {
     "slide_type": "subslide"
    }
   },
   "source": [
    "## 什麼是 GitHub\n",
    "\n",
    "> 在軟體開發團隊中，協作的程式設計師需要一個中心伺服器供上傳（push）與下載（pull）專案程式碼，固然軟體開發團隊可以自行架設這個中心伺服器，但多數團隊會選擇被妥善維運的服務，GitHub 提供了這個寶貴的服務。簡短來說，我們可以將專案儲存在 GitHub 上，並允許團隊的其他開發工程師透過 git 一起協作專案。"
   ]
  },
  {
   "cell_type": "markdown",
   "metadata": {
    "slideshow": {
     "slide_type": "subslide"
    }
   },
   "source": [
    "## 其他與 GitHub 提供類似服務的選擇\n",
    "\n",
    "- [GitLab](https://gitlab.com/)\n",
    "- [BitBucket](https://bitbucket.org/)"
   ]
  },
  {
   "cell_type": "markdown",
   "metadata": {
    "slideshow": {
     "slide_type": "slide"
    }
   },
   "source": [
    "## git 與 GitHub 基礎操作"
   ]
  },
  {
   "cell_type": "markdown",
   "metadata": {
    "slideshow": {
     "slide_type": "subslide"
    }
   },
   "source": [
    "## 設定 git：讓 git 認識使用者資訊\n",
    "\n",
    "```bash\n",
    "git config --global user.name \"YOUR_GitHub_USERNAME\"\n",
    "git config --global user.email \"YOUR_EMAIL_ADDRESS\"\n",
    "```"
   ]
  },
  {
   "cell_type": "markdown",
   "metadata": {
    "slideshow": {
     "slide_type": "subslide"
    }
   },
   "source": [
    "## 創建 repository\n",
    "\n",
    "資料夾名稱為 learning_git\n",
    "\n",
    "```bash\n",
    "mkdir learning_git\n",
    "cd learning_git\n",
    "git init\n",
    "```"
   ]
  },
  {
   "cell_type": "markdown",
   "metadata": {
    "slideshow": {
     "slide_type": "subslide"
    }
   },
   "source": [
    "## `git init` 指令會在 learning_git 資料夾中創建一個「隱藏」資料夾 `.git`\n",
    "\n",
    "我們可以在 `ls` 指令後加上 `-a` 參數檢視所有（**a**ll）檔案與資料夾\n",
    "\n",
    "```bash\n",
    "ls -a\n",
    "```"
   ]
  },
  {
   "cell_type": "markdown",
   "metadata": {
    "slideshow": {
     "slide_type": "subslide"
    }
   },
   "source": [
    "## 具有 `.git` 的資料夾就成為了一個 repository\n",
    "\n",
    "注意不要在 repository 中另外創建 repository！"
   ]
  },
  {
   "cell_type": "markdown",
   "metadata": {
    "slideshow": {
     "slide_type": "subslide"
    }
   },
   "source": [
    "## 使用 `git status` 指令檢查狀態\n",
    "\n",
    "`git status` 指令會告訴使用者這些資訊：\n",
    "\n",
    "- 確認我們處在一個 repository（有 .git 的資料夾）之中\n",
    "- 確認目前處在哪個分支（master branch）\n",
    "- 還沒有任何的 commit\n",
    "- 還沒有任何更新需要記錄到 .git 之中\n",
    "- 下一步可以做些什麼"
   ]
  },
  {
   "cell_type": "markdown",
   "metadata": {
    "slideshow": {
     "slide_type": "subslide"
    }
   },
   "source": [
    "## 在 learning_git 中新增 top_rated_movies.txt\n",
    "\n",
    "新增後使用 `git status` 檢查狀態\n",
    "\n",
    "```bash\n",
    "touch top_rated_movies.txt\n",
    "git status\n",
    "```"
   ]
  },
  {
   "cell_type": "markdown",
   "metadata": {
    "slideshow": {
     "slide_type": "subslide"
    }
   },
   "source": [
    "## 使用 `git add` 指令將 top_rated_movies.txt 加入追蹤\n",
    "\n",
    "加入後使用 `git status` 檢查狀態\n",
    "\n",
    "```bash\n",
    "git add top_rated_movies.txt\n",
    "git status\n",
    "```"
   ]
  },
  {
   "cell_type": "markdown",
   "metadata": {
    "slideshow": {
     "slide_type": "subslide"
    }
   },
   "source": [
    "## 使用 `git commit` 指令建構檢查點\n",
    "\n",
    "建構檢查點後使用 `git status` 檢查狀態\n",
    "\n",
    "```bash\n",
    "git commit -m \"create a blank file\"\n",
    "git status\n",
    "```"
   ]
  },
  {
   "cell_type": "markdown",
   "metadata": {
    "slideshow": {
     "slide_type": "subslide"
    }
   },
   "source": [
    "## 如果忘記下 `-m` 會發生什麼事..."
   ]
  },
  {
   "cell_type": "markdown",
   "metadata": {
    "slideshow": {
     "slide_type": "subslide"
    }
   },
   "source": [
    "![Imgur](https://i.imgur.com/akU4zi5.png?1)"
   ]
  },
  {
   "cell_type": "markdown",
   "metadata": {
    "slideshow": {
     "slide_type": "subslide"
    }
   },
   "source": [
    "## 我們來試試看好惹\n",
    "\n",
    "在 top_rated_movies.txt 新增一部電影然後用 `git status` 檢查\n",
    "\n",
    "```\n",
    "1. The Shawshank Redemption (1994) 9.2\n",
    "```\n",
    "\n",
    "Source: [IMDB Top Rated Movies](https://www.imdb.com/chart/top?pf_rd_m=A2FGELUUNOQJNL&pf_rd_p=4da9d9a5-d299-43f2-9c53-f0efa18182cd&pf_rd_r=HYWAWQJNYDRC0RA9X4ZJ&pf_rd_s=right-4&pf_rd_t=15506&pf_rd_i=boxoffice&ref_=chtbo_ql_3)"
   ]
  },
  {
   "cell_type": "markdown",
   "metadata": {
    "slideshow": {
     "slide_type": "subslide"
    }
   },
   "source": [
    "## 接著就是...忘記下 `-m`\n",
    "\n",
    "```bash\n",
    "git add top_rated_movies.txt\n",
    "git commit\n",
    "```"
   ]
  },
  {
   "cell_type": "markdown",
   "metadata": {
    "slideshow": {
     "slide_type": "subslide"
    }
   },
   "source": [
    "## WTF...\n",
    "\n",
    "![Imgur](https://i.imgur.com/5ig7lFg.png?1)"
   ]
  },
  {
   "cell_type": "markdown",
   "metadata": {
    "slideshow": {
     "slide_type": "subslide"
    }
   },
   "source": [
    "## 這是一個叫做 Vim 的文字編輯器\n",
    "\n",
    "> 其程式碼補完、編譯及錯誤跳轉等方便編程的功能特別豐富，在程式設計師中被廣泛使用。和 Emacs 並列成為類 Unix 系統用戶最喜歡的編輯器。\n",
    "\n",
    "Source: <https://zh.wikipedia.org/zh-tw/Vim>"
   ]
  },
  {
   "cell_type": "markdown",
   "metadata": {
    "slideshow": {
     "slide_type": "subslide"
    }
   },
   "source": [
    "## 按一下 `esc` 然後輸入 `:q` 離開它！"
   ]
  },
  {
   "cell_type": "markdown",
   "metadata": {
    "slideshow": {
     "slide_type": "subslide"
    }
   },
   "source": [
    "## 我們目前做的事情 `git add` 與 `git commit`\n",
    "\n",
    "![Imgur](https://i.imgur.com/Wcvku5v.jpg)\n",
    "\n",
    "Source: [Programming Skills for Data Science](https://www.amazon.com/Programming-Skills-Data-Science-Addison-Wesley/dp/0135133106)"
   ]
  },
  {
   "cell_type": "markdown",
   "metadata": {
    "slideshow": {
     "slide_type": "subslide"
    }
   },
   "source": [
    "## 將專案儲存至 GitHub\n",
    "\n",
    "- git vs. GitHub\n",
    "- 我的照片 vs. Flickr\n",
    "- 迷因圖 vs. Imgur\n",
    "- ...etc."
   ]
  },
  {
   "cell_type": "markdown",
   "metadata": {
    "slideshow": {
     "slide_type": "subslide"
    }
   },
   "source": [
    "## 常見將專案儲存至 GitHub 的兩種方式\n",
    "\n",
    "- 在本機將專案上傳（Push）至 GitHub 的 repository\n",
    "- 使用 `git clone` 指令將在 GitHub 開啟好的專案複製到本機"
   ]
  },
  {
   "cell_type": "markdown",
   "metadata": {
    "slideshow": {
     "slide_type": "subslide"
    }
   },
   "source": [
    "## 在本機將專案上傳（Push）至 GitHub 的 repository\n",
    "\n",
    "- 登入 GitHub 點選 New Repository\n",
    "- 不要勾選 Initialize this repository with a README\n",
    "- 以 `git remote add origin` 指令連結\n",
    "- 以 `git push` 指令上傳\n",
    "\n",
    "```bash\n",
    "git remote add origin https://github.com/YOUR_USERNAME/learning_git.git\n",
    "git push -u origin master\n",
    "```"
   ]
  },
  {
   "cell_type": "markdown",
   "metadata": {
    "slideshow": {
     "slide_type": "subslide"
    }
   },
   "source": [
    "## 使用 `git clone` 指令將在 GitHub 開啟好的專案複製到本機\n",
    "\n",
    "- 登入 GitHub 點選 New Repository\n",
    "- 勾選 Initialize this repository with a README\n",
    "- 以 `git clone` 指令複製\n",
    "\n",
    "```bash\n",
    "git clone https://github.com/YOUR_USERNAME/another_learning_git.git\n",
    "```\n",
    "\n",
    "![Imgur](https://i.imgur.com/uUczxqw.jpg)\n",
    "\n",
    "Source: [Programming Skills for Data Science](https://www.amazon.com/Programming-Skills-Data-Science-Addison-Wesley/dp/0135133106)"
   ]
  },
  {
   "cell_type": "markdown",
   "metadata": {
    "slideshow": {
     "slide_type": "subslide"
    }
   },
   "source": [
    "## 使用 `git pull` 指令將在 GitHub 做的更新下載至本機\n",
    "\n",
    "```bash\n",
    "git pull\n",
    "```"
   ]
  },
  {
   "cell_type": "markdown",
   "metadata": {
    "slideshow": {
     "slide_type": "subslide"
    }
   },
   "source": [
    "## 我們目前做的所有事情\n",
    "\n",
    "![Imgur](https://i.imgur.com/fKR9wHK.jpg)\n",
    "\n",
    "Source: [Programming Skills for Data Science](https://www.amazon.com/Programming-Skills-Data-Science-Addison-Wesley/dp/0135133106)"
   ]
  },
  {
   "cell_type": "markdown",
   "metadata": {
    "slideshow": {
     "slide_type": "subslide"
    }
   },
   "source": [
    "## 使用 `git log` 檢視截至目前為止的 commits（檢查點）\n",
    "\n",
    "檢視完畢後按 `q` 離開頁面\n",
    "\n",
    "```bash\n",
    "git log\n",
    "git log --oneline\n",
    "```"
   ]
  },
  {
   "cell_type": "markdown",
   "metadata": {
    "slideshow": {
     "slide_type": "subslide"
    }
   },
   "source": [
    "## 使用 `git checkout` 指令將檔案切換至先前的 commit\n",
    "\n",
    "```bash\n",
    "git log --oneline\n",
    "git checkout COMMIT_HASH top_rated_movies.txt\n",
    "```"
   ]
  },
  {
   "cell_type": "markdown",
   "metadata": {
    "slideshow": {
     "slide_type": "subslide"
    }
   },
   "source": [
    "## 使用 `git checkout` 指令將檔案切換至最後一個 commit\n",
    "\n",
    "```bash\n",
    "git log --oneline\n",
    "git checkout COMMIT_HASH top_rated_movies.txt\n",
    "```"
   ]
  },
  {
   "cell_type": "markdown",
   "metadata": {
    "slideshow": {
     "slide_type": "subslide"
    }
   },
   "source": [
    "## 編輯 `.gitignore` 檔案防止 git 追蹤沒有必要的檔案\n",
    "\n",
    "- 不追蹤 Mac 系統檔案 `.DS_Store`\n",
    "- 不追蹤機敏資料\n",
    "- 不追蹤容量龐大的檔案\n",
    "- 不追蹤指定資料夾（留意正斜線）"
   ]
  },
  {
   "cell_type": "markdown",
   "metadata": {
    "slideshow": {
     "slide_type": "subslide"
    }
   },
   "source": [
    "```\n",
    "# This is an example .gitignore file\n",
    "# Ignore Mac system files;\n",
    ".DS_Store\n",
    "\n",
    "# Don't check in passwords stored in this file\n",
    "secret/my_password.txt\n",
    "\n",
    "# Don't include large files or libraries\n",
    "movies/my_four_hour_epic.mov\n",
    "\n",
    "# Ignore everything in a particular folder; note the slash\n",
    "raw-data/\n",
    "```"
   ]
  },
  {
   "cell_type": "markdown",
   "metadata": {
    "slideshow": {
     "slide_type": "subslide"
    }
   },
   "source": [
    "## 設定 SSH（Secured Shell）：讓往後上傳程式碼至 GitHub 可以不用輸入密碼\n",
    "\n",
    "- 創建新的 SSH 金鑰\n",
    "- 將 SSH 金鑰加入 GitHub 帳戶"
   ]
  },
  {
   "cell_type": "markdown",
   "metadata": {
    "slideshow": {
     "slide_type": "subslide"
    }
   },
   "source": [
    "## 創建新的 SSH 金鑰\n",
    "\n",
    "- 被提示 \"Enter a file in which to save the key\" 時按 Enter 接受預設路徑 `/c/Users/you/.ssh/id_rsa`\n",
    "- 被提示 \"Enter passphrase (empty for no passphrase)\" 時按 Enter\n",
    "\n",
    "```bash\n",
    "ssh-keygen -t rsa -b 4096 -C \"your_email@example.com\"\n",
    "```"
   ]
  },
  {
   "cell_type": "markdown",
   "metadata": {
    "slideshow": {
     "slide_type": "subslide"
    }
   },
   "source": [
    "## 將 SSH 金鑰加入 GitHub 帳戶\n",
    "\n",
    "- 以文字編輯器開啟 SSH 金鑰並複製其中的內容\n",
    "- 依照 <https://help.github.com/en/github/authenticating-to-github/adding-a-new-ssh-key-to-your-github-account> 指示加入 GitHub 帳戶"
   ]
  },
  {
   "cell_type": "markdown",
   "metadata": {
    "slideshow": {
     "slide_type": "slide"
    }
   },
   "source": [
    "# 隨堂練習"
   ]
  }
 ],
 "metadata": {
  "celltoolbar": "Slideshow",
  "kernelspec": {
   "display_name": "Python 3",
   "language": "python",
   "name": "python3"
  },
  "language_info": {
   "codemirror_mode": {
    "name": "ipython",
    "version": 3
   },
   "file_extension": ".py",
   "mimetype": "text/x-python",
   "name": "python",
   "nbconvert_exporter": "python",
   "pygments_lexer": "ipython3",
   "version": "3.7.2"
  }
 },
 "nbformat": 4,
 "nbformat_minor": 2
}

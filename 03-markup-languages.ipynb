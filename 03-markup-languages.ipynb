{
 "cells": [
  {
   "cell_type": "markdown",
   "metadata": {
    "slideshow": {
     "slide_type": "slide"
    }
   },
   "source": [
    "# 成為初級資料分析師 | 資料分析師的工具箱\n",
    "\n",
    "> 認識標記式語言\n",
    "\n",
    "## 郭耀仁"
   ]
  },
  {
   "cell_type": "markdown",
   "metadata": {
    "slideshow": {
     "slide_type": "subslide"
    }
   },
   "source": [
    "## 大綱\n",
    "\n",
    "- 什麼是標記式語言\n",
    "- Markdown\n",
    "- HTML\n",
    "- 隨堂練習"
   ]
  },
  {
   "cell_type": "markdown",
   "metadata": {
    "slideshow": {
     "slide_type": "slide"
    }
   },
   "source": [
    "## 什麼是標記式語言"
   ]
  },
  {
   "cell_type": "markdown",
   "metadata": {
    "slideshow": {
     "slide_type": "slide"
    }
   },
   "source": [
    "> 標記式語言是一種將文字（Text）以及相關資訊結合起來，展現出關於文件結構和資料處理細節的電腦文字編碼。。當今廣泛使用的標記式語言是超文件標示語言（HyperText Markup Language，HTML）和可延伸標示語言（eXtensible Markup Language，XML）。標記式語言廣泛應用於網頁和網路應用程式。\n",
    "\n",
    "Source: <https://en.wikipedia.org/wiki/Markup_language>"
   ]
  },
  {
   "cell_type": "markdown",
   "metadata": {
    "slideshow": {
     "slide_type": "subslide"
    }
   },
   "source": [
    "![Imgur](https://i.imgur.com/93ZoqA7.png?1)"
   ]
  },
  {
   "cell_type": "markdown",
   "metadata": {
    "slideshow": {
     "slide_type": "subslide"
    }
   },
   "source": [
    "## 資料分析師需要知道的標記式語言\n",
    "\n",
    "- Markdown\n",
    "- HTML(HyperText Markup Language)、XML"
   ]
  },
  {
   "cell_type": "markdown",
   "metadata": {
    "slideshow": {
     "slide_type": "subslide"
    }
   },
   "source": [
    "## 資料分析師為什麼需要知道 Markdown \n",
    "\n",
    "- GitHub 上的讀我檔案（README.md）\n",
    "- Jupyter Notebook 的文字儲存格\n",
    "- RMarkdown 的文字區塊\n",
    "- 現代靜態網站產生器的文字檔案"
   ]
  },
  {
   "cell_type": "markdown",
   "metadata": {
    "slideshow": {
     "slide_type": "subslide"
    }
   },
   "source": [
    "## 資料分析師為什麼需要知道 HTML 與 XML\n",
    "\n",
    "- 撰寫網站爬蟲\n",
    "- 建構作品集"
   ]
  },
  {
   "cell_type": "markdown",
   "metadata": {
    "slideshow": {
     "slide_type": "slide"
    }
   },
   "source": [
    "## Markdown"
   ]
  },
  {
   "cell_type": "markdown",
   "metadata": {
    "slideshow": {
     "slide_type": "subslide"
    }
   },
   "source": [
    "## 在 Jupyter Notebook 執行文字儲存格即可預覽"
   ]
  },
  {
   "cell_type": "markdown",
   "metadata": {
    "slideshow": {
     "slide_type": "subslide"
    }
   },
   "source": [
    "## VSCode 支援即時 Markdown 預覽\n",
    "\n",
    "- 在桌面創建 `markdown-demo.md`\n",
    "- 使用 VSCode 開啟\n",
    "\n",
    "```bash\n",
    "cd Desktop\n",
    "touch markdown-demo.md\n",
    "code markdown-demo.md\n",
    "```"
   ]
  },
  {
   "cell_type": "markdown",
   "metadata": {
    "slideshow": {
     "slide_type": "subslide"
    }
   },
   "source": [
    "![Imgur](https://i.imgur.com/q63aMPX.png?1)"
   ]
  },
  {
   "cell_type": "markdown",
   "metadata": {
    "slideshow": {
     "slide_type": "subslide"
    }
   },
   "source": [
    "## 使用井字號 # 建立標題文字\n",
    "\n",
    "不同數量的 # 會顯示出不同階層的標題\n",
    "\n",
    "```\n",
    "# 標題階層一\n",
    "\n",
    "## 標題階層二\n",
    "\n",
    "### 標題階層三\n",
    "\n",
    "#### 標題階層四\n",
    "\n",
    "##### 標題階層五\n",
    "\n",
    "###### 標題階層六\n",
    "\n",
    "```"
   ]
  },
  {
   "cell_type": "markdown",
   "metadata": {
    "slideshow": {
     "slide_type": "subslide"
    }
   },
   "source": [
    "# 標題階層一\n",
    "\n",
    "## 標題階層二\n",
    "\n",
    "### 標題階層三\n",
    "\n",
    "#### 標題階層四\n",
    "\n",
    "##### 標題階層五\n",
    "\n",
    "###### 標題階層六"
   ]
  },
  {
   "cell_type": "markdown",
   "metadata": {
    "slideshow": {
     "slide_type": "subslide"
    }
   },
   "source": [
    "## 使用 * 、 + 或 - 製作無順序的標點清單列表\n",
    "\n",
    "```\n",
    "* 第 1 點\n",
    "    * 第 1-1 點\n",
    "    - 第 1-2 點\n",
    "    + 第 1-3 點\n",
    "- 第 2 點\n",
    "+ 第 3 點\n",
    "```"
   ]
  },
  {
   "cell_type": "markdown",
   "metadata": {
    "slideshow": {
     "slide_type": "subslide"
    }
   },
   "source": [
    "* 第 1 點\n",
    "    * 第 1-1 點\n",
    "    - 第 1-2 點\n",
    "    + 第 1-3 點\n",
    "- 第 2 點\n",
    "+ 第 3 點"
   ]
  },
  {
   "cell_type": "markdown",
   "metadata": {
    "slideshow": {
     "slide_type": "subslide"
    }
   },
   "source": [
    "## 使用 1. 、 2. 、 3. 製作有順序的數字清單列表\n",
    "\n",
    "```\n",
    "1. 第 1 點\n",
    "2. 第 2 點\n",
    "3. 第 3 點\n",
    "```"
   ]
  },
  {
   "cell_type": "markdown",
   "metadata": {
    "slideshow": {
     "slide_type": "subslide"
    }
   },
   "source": [
    "1. 第 1 點\n",
    "2. 第 2 點\n",
    "3. 第 3 點"
   ]
  },
  {
   "cell_type": "markdown",
   "metadata": {
    "slideshow": {
     "slide_type": "subslide"
    }
   },
   "source": [
    "## 使用 `<LINK>` 或 [LINK TEXT](LINK) 嵌入連結\n",
    "\n",
    "```\n",
    "<https://medium.com/datainpoint>\n",
    "\n",
    "[DataInPoint](https://medium.com/datainpoint)\n",
    "```"
   ]
  },
  {
   "cell_type": "markdown",
   "metadata": {
    "slideshow": {
     "slide_type": "subslide"
    }
   },
   "source": [
    "<https://medium.com/datainpoint>\n",
    "\n",
    "[DataInPoint](https://medium.com/datainpoint)"
   ]
  },
  {
   "cell_type": "markdown",
   "metadata": {
    "slideshow": {
     "slide_type": "subslide"
    }
   },
   "source": [
    "## 使用 `![IMG TEXT](IMG)` 在文字敘述中嵌入圖片\n",
    "\n",
    "```\n",
    "![黑人問號](https://i.imgur.com/Gr8dqt5.jpg)\n",
    "```"
   ]
  },
  {
   "cell_type": "markdown",
   "metadata": {
    "slideshow": {
     "slide_type": "subslide"
    }
   },
   "source": [
    "![黑人問號](https://i.imgur.com/Gr8dqt5.jpg)"
   ]
  },
  {
   "cell_type": "markdown",
   "metadata": {
    "slideshow": {
     "slide_type": "subslide"
    }
   },
   "source": [
    "## 使用 > 製作引用文字區塊\n",
    "\n",
    "```\n",
    "> Life was like a box of chocolates. You never know what you're gonna get.\n",
    "```"
   ]
  },
  {
   "cell_type": "markdown",
   "metadata": {
    "slideshow": {
     "slide_type": "subslide"
    }
   },
   "source": [
    "> Life was like a box of chocolates. You never know what you're gonna get.\n",
    ">\n",
    "> Forrest Gump, 1994"
   ]
  },
  {
   "cell_type": "markdown",
   "metadata": {
    "slideshow": {
     "slide_type": "subslide"
    }
   },
   "source": [
    "## 使用 `$$` 或 `$$$$` 嵌入數學方程式\n",
    "\n",
    "```\n",
    "$S(x) = ^1/_{1+e^{-x}}$\n",
    "\n",
    "$$S(x) = \\frac{1}{1+e^{-x}}$$\n",
    "```"
   ]
  },
  {
   "cell_type": "markdown",
   "metadata": {
    "slideshow": {
     "slide_type": "subslide"
    }
   },
   "source": [
    "$S(x) = ^1/_{1+e^{-x}}$\n",
    "\n",
    "$$S(x) = \\frac{1}{1+e^{-x}}$$"
   ]
  },
  {
   "cell_type": "markdown",
   "metadata": {
    "slideshow": {
     "slide_type": "subslide"
    }
   },
   "source": [
    "## 使用 `***` 、 `---` 或 `___` 製作水平分隔線\n",
    "\n",
    "```\n",
    "第一個水平分隔線：\n",
    "***\n",
    "第二個水平分隔線：\n",
    "---\n",
    "第三個水平分隔線：\n",
    "___\n",
    "```"
   ]
  },
  {
   "cell_type": "markdown",
   "metadata": {
    "slideshow": {
     "slide_type": "subslide"
    }
   },
   "source": [
    "第一個水平分隔線：\n",
    "\n",
    "***\n",
    "\n",
    "第二個水平分隔線：\n",
    "\n",
    "---\n",
    "\n",
    "第三個水平分隔線：\n",
    "\n",
    "___"
   ]
  },
  {
   "cell_type": "markdown",
   "metadata": {
    "slideshow": {
     "slide_type": "subslide"
    }
   },
   "source": [
    "## 使用 `|` 、 `-` 或 `:` 製作表格\n",
    "\n",
    "```\n",
    "|預設|靠右對齊|靠左對齊|置中對齊|\n",
    "|---|------:|:-----|:-----:|\n",
    "|12 |12     |12    |12     |\n",
    "|123|123    |123   |123    |\n",
    "|1  |1      |1     |1      |\n",
    "```"
   ]
  },
  {
   "cell_type": "markdown",
   "metadata": {
    "slideshow": {
     "slide_type": "subslide"
    }
   },
   "source": [
    "|預設|靠右對齊|靠左對齊|置中對齊|\n",
    "|---|------:|:-----|:-----:|\n",
    "|12 |12     |12    |12     |\n",
    "|123|123    |123   |123    |\n",
    "|1  |1      |1     |1      |"
   ]
  },
  {
   "cell_type": "markdown",
   "metadata": {
    "slideshow": {
     "slide_type": "subslide"
    }
   },
   "source": [
    "## 使用 `*文字*` 製作斜體、使用 `**文字**` 製作粗體\n",
    "\n",
    "```\n",
    "## 斜體\n",
    "Let's put aside the fact that you \"*accidentally*\" picked up my grand mother's ring and you \"*ccidentally* proposed to Rachel.\n",
    "## 粗體\n",
    "Let's put aside the fact that you \"**accidentally**\" picked up my grand mother's ring and you \"**accidentally**\" proposed to Rachel.\n",
    "```"
   ]
  },
  {
   "cell_type": "markdown",
   "metadata": {
    "slideshow": {
     "slide_type": "subslide"
    }
   },
   "source": [
    "## 斜體\n",
    "Let's put aside the fact that you \"*accidentally*\" picked up my grand mother's ring and you \"*accidentally*\" proposed to Rachel.\n",
    "## 粗體\n",
    "Let's put aside the fact that you \"**accidentally**\" picked up my grand mother's ring and you \"**accidentally**\" proposed to Rachel.|"
   ]
  },
  {
   "cell_type": "markdown",
   "metadata": {
    "slideshow": {
     "slide_type": "subslide"
    }
   },
   "source": [
    "## 使用 `~~文字~~` 製作刪除線\n",
    "\n",
    "```\n",
    "這是一段~~具有刪除線的~~文字敘述。\n",
    "```"
   ]
  },
  {
   "cell_type": "markdown",
   "metadata": {
    "slideshow": {
     "slide_type": "subslide"
    }
   },
   "source": [
    "這是一段~~具有刪除線的~~文字敘述。"
   ]
  },
  {
   "cell_type": "markdown",
   "metadata": {
    "slideshow": {
     "slide_type": "slide"
    }
   },
   "source": [
    "## HTML"
   ]
  },
  {
   "cell_type": "markdown",
   "metadata": {
    "slideshow": {
     "slide_type": "slide"
    }
   },
   "source": [
    "## 隨堂練習"
   ]
  }
 ],
 "metadata": {
  "celltoolbar": "Slideshow",
  "kernelspec": {
   "display_name": "Python 3",
   "language": "python",
   "name": "python3"
  },
  "language_info": {
   "codemirror_mode": {
    "name": "ipython",
    "version": 3
   },
   "file_extension": ".py",
   "mimetype": "text/x-python",
   "name": "python",
   "nbconvert_exporter": "python",
   "pygments_lexer": "ipython3",
   "version": "3.7.2"
  }
 },
 "nbformat": 4,
 "nbformat_minor": 2
}
